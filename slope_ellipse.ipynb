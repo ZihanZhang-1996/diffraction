{
 "cells": [
  {
   "cell_type": "code",
   "execution_count": 1,
   "id": "49a81e11",
   "metadata": {},
   "outputs": [],
   "source": [
    "import numpy as np\n",
    "import matplotlib.pyplot as plt\n",
    "import matplotlib.cm as cm"
   ]
  },
  {
   "cell_type": "code",
   "execution_count": 2,
   "id": "80d5924a",
   "metadata": {},
   "outputs": [],
   "source": [
    "def resolution_slope(a,b,c,k):\n",
    "    AA=a+b*k+c*k*k\n",
    "    by=np.sqrt(-4*AA/(pow(b+2*c*k,2)-4*AA*c))\n",
    "    return by,np.sqrt(1/c)"
   ]
  },
  {
   "cell_type": "code",
   "execution_count": 56,
   "id": "ff9d9be8",
   "metadata": {},
   "outputs": [
    {
     "name": "stdout",
     "output_type": "stream",
     "text": [
      "M Matrix is \n",
      "[[16282.90544424 -3834.39487967     0.          -538.70232827]\n",
      " [-3834.39487967  9021.82130345     0.          1446.30177849]\n",
      " [    0.             0.          1002.67305342     0.        ]\n",
      " [ -538.70232827  1446.30177849     0.           246.12377398]]\n",
      "a b c are\n",
      "17435.003801342948 -1621.7513677968097 246.12377397565717\n",
      "Slope of dispersion is \n",
      "k= 2.04\n"
     ]
    }
   ],
   "source": [
    "H=2\n",
    "K=-0.4\n",
    "L=0\n",
    "E=2.055\n",
    "lattice_constant=6.291\n",
    "k=2.04\n",
    "\n",
    "# Qx Qy hw Qz\n",
    "# Mmatrix0 from ResLibCal\n",
    "Mmatrix0=np.array([[22572.9, -5315.6,    -0.0,  -746.8],\n",
    "[-5315.6, 12506.9,     0.0 , 2005.0],\n",
    " [  -0.0,     0.0,  1390.0,     0.0],\n",
    " [-746.8,  2005.0,     0.0,   341.2]])\n",
    "Mmatrix0=Mmatrix0/np.log(2)/2\n",
    "\n",
    "# convert M to Qx Qy Qz coordinate\n",
    "Mconvert=np.array([[1,0,0,0],[0,1,0,0],[0,0,1,0],[0,0,0,1]])\n",
    "\n",
    "Mmatrix=np.matmul(Mconvert,np.matmul(Mmatrix0,Mconvert))\n",
    "\n",
    "# a q^2 + b qE + cE^2 = 2 ln2 \n",
    "a=Mmatrix[0,0]*H*H+Mmatrix[1,1]*K*K+Mmatrix[2,2]*L*L\n",
    "a=a+2*Mmatrix[0,1]*H*K+2*Mmatrix[0,2]*L*H+2*Mmatrix[1,2]*K*L\n",
    "b=2*H*Mmatrix[0,3]*E+2*K*Mmatrix[1,3]*E+2*L*Mmatrix[2,3]*E\n",
    "c=Mmatrix[3,3]*E*E\n",
    "\n",
    "ra=2*np.pi/lattice_constant\n",
    "\n",
    "a=ra*ra*a/(H*H+K*K+L*L)\n",
    "\n",
    "b=ra*b/np.sqrt(H*H+K*K+L*L)/E\n",
    "\n",
    "c=c/E/E\n",
    "\n",
    "print('M Matrix is ')\n",
    "print(Mmatrix)\n",
    "print('a b c are')\n",
    "print(a,b,c)\n",
    "print('Slope of dispersion is ')\n",
    "print('k=',k)"
   ]
  },
  {
   "cell_type": "code",
   "execution_count": 57,
   "id": "b9065cf6",
   "metadata": {},
   "outputs": [
    {
     "name": "stdout",
     "output_type": "stream",
     "text": [
      "corrected FWHM is 0.12914502693305774\n",
      "dE= 0.12748327528032985\n"
     ]
    }
   ],
   "source": [
    "d,d1=resolution_slope(a,b,c,k)\n",
    "print('corrected FWHM is',2*d)\n",
    "print('dE=',2*d1)"
   ]
  },
  {
   "cell_type": "code",
   "execution_count": 47,
   "id": "3c24130c",
   "metadata": {},
   "outputs": [
    {
     "data": {
      "text/plain": [
       "<matplotlib.legend.Legend at 0x17da0228310>"
      ]
     },
     "execution_count": 47,
     "metadata": {},
     "output_type": "execute_result"
    },
    {
     "data": {
      "image/png": "[encoded data removed]",
      "text/plain": [
       "<Figure size 432x288 with 1 Axes>"
      ]
     },
     "metadata": {
      "needs_background": "light"
     },
     "output_type": "display_data"
    }
   ],
   "source": [
    "ub=np.sqrt(4*c/(4*a*c-b*b))\n",
    "x=np.linspace(-ub,ub,100)\n",
    "x1=np.linspace(-2*ub,2*ub,200)\n",
    "plt.plot(x1,k*x1+d,label='phonon dispersion',color='b')\n",
    "plt.plot(x1,k*x1-d,color='b')\n",
    "plt.plot(x,(-b*x+np.sqrt(b*b*x*x-4*c*(a*x*x-1)))/2/c,label='Resolution Ellipse',color='r')\n",
    "plt.plot(x,(-b*x-np.sqrt(b*b*x*x-4*c*(a*x*x-1)))/2/c,color='r')\n",
    "plt.ylabel('Energy(meV)')\n",
    "plt.xlabel('Momentum(1/A)')\n",
    "plt.title(\"Resolution ellipse cuts dispersion\")\n",
    "plt.legend()"
   ]
  },
  {
   "cell_type": "code",
   "execution_count": null,
   "id": "7a5f23c8",
   "metadata": {},
   "outputs": [],
   "source": []
  }
 ],
 "metadata": {
  "kernelspec": {
   "display_name": "Python 3",
   "language": "python",
   "name": "python3"
  },
  "language_info": {
   "codemirror_mode": {
    "name": "ipython",
    "version": 3
   },
   "file_extension": ".py",
   "mimetype": "text/x-python",
   "name": "python",
   "nbconvert_exporter": "python",
   "pygments_lexer": "ipython3",
   "version": "3.9.5"
  }
 },
 "nbformat": 4,
 "nbformat_minor": 5
}
